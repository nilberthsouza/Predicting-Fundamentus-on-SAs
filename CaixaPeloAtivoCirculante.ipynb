{
  "nbformat": 4,
  "nbformat_minor": 0,
  "metadata": {
    "colab": {
      "name": "CaixaPeloAtivoCirculante.ipynb",
      "provenance": [],
      "collapsed_sections": []
    },
    "kernelspec": {
      "name": "python3",
      "display_name": "Python 3"
    }
  },
  "cells": [
    {
      "cell_type": "markdown",
      "metadata": {
        "id": "e7R3dQhdSwJ_",
        "colab_type": "text"
      },
      "source": [
        "#tentaremos prever o caixa e o equivalente de caixa apenas usando o ativo circulante\n",
        "\n",
        "Para isso precisaremos importar o tensor flow , o numpy para usar o array e o keras para manipular a rede neural. "
      ]
    },
    {
      "cell_type": "code",
      "metadata": {
        "id": "xbTSetcAKjdk",
        "colab_type": "code",
        "colab": {}
      },
      "source": [
        "import tensorflow as tf\n",
        "import numpy as np\n",
        "from tensorflow import keras\n"
      ],
      "execution_count": 0,
      "outputs": []
    },
    {
      "cell_type": "markdown",
      "metadata": {
        "id": "RHHYjhvkTLWa",
        "colab_type": "text"
      },
      "source": [
        "Então criaremos a rede neural mais simples possivel que tem uma layer e um neuronio e o shape de entrada é de apenas um valor"
      ]
    },
    {
      "cell_type": "code",
      "metadata": {
        "id": "T5aTphplKt0i",
        "colab_type": "code",
        "colab": {
          "base_uri": "https://localhost:8080/",
          "height": 88
        },
        "outputId": "aab664d6-f4e5-4ab8-dc53-4dc71b6a6da8"
      },
      "source": [
        "model = tf.keras.Sequential([keras.layers.Dense(units=1, input_shape=[1])])"
      ],
      "execution_count": 5,
      "outputs": [
        {
          "output_type": "stream",
          "text": [
            "WARNING:tensorflow:From /usr/local/lib/python3.6/dist-packages/tensorflow_core/python/ops/resource_variable_ops.py:1630: calling BaseResourceVariable.__init__ (from tensorflow.python.ops.resource_variable_ops) with constraint is deprecated and will be removed in a future version.\n",
            "Instructions for updating:\n",
            "If using Keras pass *_constraint arguments to layers.\n"
          ],
          "name": "stdout"
        }
      ]
    },
    {
      "cell_type": "markdown",
      "metadata": {
        "id": "EmNOaHcDTjnp",
        "colab_type": "text"
      },
      "source": [
        "Então definiremos a função loss e a função optmizer"
      ]
    },
    {
      "cell_type": "code",
      "metadata": {
        "id": "WsQ30_oaLejq",
        "colab_type": "code",
        "colab": {}
      },
      "source": [
        "model.compile(optimizer='sgd',loss='mean_squared_error')"
      ],
      "execution_count": 0,
      "outputs": []
    },
    {
      "cell_type": "markdown",
      "metadata": {
        "id": "Oxuh79mfTqK8",
        "colab_type": "text"
      },
      "source": [
        "damos os dados de entrada sendo xs os ativos circulantes e ys o caixa e equivalente de caixa desde 30/9/2013 até 30/6/2019"
      ]
    },
    {
      "cell_type": "code",
      "metadata": {
        "id": "IS7kb9uaLk1Y",
        "colab_type": "code",
        "colab": {}
      },
      "source": [
        "xs = np.array([55177933, 57104708, 52027392, 49724834, 52123546, 53744763, 56786952, 56057188, 70324568, 60417700, 61304865, 58654843,63324414, 73547194, 71044399, 65705128, 63005553, 62700728, 50650169, 59639296, 60585832, 59256115, 58742235, 60989088],dtype=float)\n",
        "ys = np.array([15878774, 12465248, 16252338, 15560231, 19318729, 10555341, 11817819, 9798673, 17470157, 14021704, 13461076, 13376978, 17427892, 13890591, 21278972, 18922164, 14949025, 14317520, 17841261, 24557353, 24424372, 22412548, 19512945, 23176176],dtype=float)"
      ],
      "execution_count": 0,
      "outputs": []
    },
    {
      "cell_type": "markdown",
      "metadata": {
        "id": "zSRWzRB0T6kR",
        "colab_type": "text"
      },
      "source": [
        "Então entregamos os valores de entrada xs e os valores de saida ys e definimos que a IA deve treinar 500 vezes pra tentar encontrar a regra"
      ]
    },
    {
      "cell_type": "code",
      "metadata": {
        "id": "GlvmdVllLyC9",
        "colab_type": "code",
        "colab": {
          "base_uri": "https://localhost:8080/",
          "height": 1000
        },
        "outputId": "b6cb6ec5-1602-40f8-f5c9-6155301a23a1"
      },
      "source": [
        "model.fit(xs, ys, epochs=100)"
      ],
      "execution_count": 27,
      "outputs": [
        {
          "output_type": "stream",
          "text": [
            "Train on 24 samples\n",
            "Epoch 1/100\n",
            "24/24 [==============================] - 0s 2ms/sample - loss: nan\n",
            "Epoch 2/100\n",
            "24/24 [==============================] - 0s 64us/sample - loss: nan\n",
            "Epoch 3/100\n",
            "24/24 [==============================] - 0s 65us/sample - loss: nan\n",
            "Epoch 4/100\n",
            "24/24 [==============================] - 0s 51us/sample - loss: nan\n",
            "Epoch 5/100\n",
            "24/24 [==============================] - 0s 56us/sample - loss: nan\n",
            "Epoch 6/100\n",
            "24/24 [==============================] - 0s 54us/sample - loss: nan\n",
            "Epoch 7/100\n",
            "24/24 [==============================] - 0s 57us/sample - loss: nan\n",
            "Epoch 8/100\n",
            "24/24 [==============================] - 0s 59us/sample - loss: nan\n",
            "Epoch 9/100\n",
            "24/24 [==============================] - 0s 51us/sample - loss: nan\n",
            "Epoch 10/100\n",
            "24/24 [==============================] - 0s 59us/sample - loss: nan\n",
            "Epoch 11/100\n",
            "24/24 [==============================] - 0s 68us/sample - loss: nan\n",
            "Epoch 12/100\n",
            "24/24 [==============================] - 0s 57us/sample - loss: nan\n",
            "Epoch 13/100\n",
            "24/24 [==============================] - 0s 72us/sample - loss: nan\n",
            "Epoch 14/100\n",
            "24/24 [==============================] - 0s 55us/sample - loss: nan\n",
            "Epoch 15/100\n",
            "24/24 [==============================] - 0s 62us/sample - loss: nan\n",
            "Epoch 16/100\n",
            "24/24 [==============================] - 0s 57us/sample - loss: nan\n",
            "Epoch 17/100\n",
            "24/24 [==============================] - 0s 51us/sample - loss: nan\n",
            "Epoch 18/100\n",
            "24/24 [==============================] - 0s 51us/sample - loss: nan\n",
            "Epoch 19/100\n",
            "24/24 [==============================] - 0s 47us/sample - loss: nan\n",
            "Epoch 20/100\n",
            "24/24 [==============================] - 0s 56us/sample - loss: nan\n",
            "Epoch 21/100\n",
            "24/24 [==============================] - 0s 53us/sample - loss: nan\n",
            "Epoch 22/100\n",
            "24/24 [==============================] - 0s 52us/sample - loss: nan\n",
            "Epoch 23/100\n",
            "24/24 [==============================] - 0s 53us/sample - loss: nan\n",
            "Epoch 24/100\n",
            "24/24 [==============================] - 0s 54us/sample - loss: nan\n",
            "Epoch 25/100\n",
            "24/24 [==============================] - 0s 47us/sample - loss: nan\n",
            "Epoch 26/100\n",
            "24/24 [==============================] - 0s 52us/sample - loss: nan\n",
            "Epoch 27/100\n",
            "24/24 [==============================] - 0s 58us/sample - loss: nan\n",
            "Epoch 28/100\n",
            "24/24 [==============================] - 0s 57us/sample - loss: nan\n",
            "Epoch 29/100\n",
            "24/24 [==============================] - 0s 53us/sample - loss: nan\n",
            "Epoch 30/100\n",
            "24/24 [==============================] - 0s 47us/sample - loss: nan\n",
            "Epoch 31/100\n",
            "24/24 [==============================] - 0s 62us/sample - loss: nan\n",
            "Epoch 32/100\n",
            "24/24 [==============================] - 0s 57us/sample - loss: nan\n",
            "Epoch 33/100\n",
            "24/24 [==============================] - 0s 54us/sample - loss: nan\n",
            "Epoch 34/100\n",
            "24/24 [==============================] - 0s 54us/sample - loss: nan\n",
            "Epoch 35/100\n",
            "24/24 [==============================] - 0s 52us/sample - loss: nan\n",
            "Epoch 36/100\n",
            "24/24 [==============================] - 0s 59us/sample - loss: nan\n",
            "Epoch 37/100\n",
            "24/24 [==============================] - 0s 52us/sample - loss: nan\n",
            "Epoch 38/100\n",
            "24/24 [==============================] - 0s 52us/sample - loss: nan\n",
            "Epoch 39/100\n",
            "24/24 [==============================] - 0s 46us/sample - loss: nan\n",
            "Epoch 40/100\n",
            "24/24 [==============================] - 0s 57us/sample - loss: nan\n",
            "Epoch 41/100\n",
            "24/24 [==============================] - 0s 101us/sample - loss: nan\n",
            "Epoch 42/100\n",
            "24/24 [==============================] - 0s 51us/sample - loss: nan\n",
            "Epoch 43/100\n",
            "24/24 [==============================] - 0s 50us/sample - loss: nan\n",
            "Epoch 44/100\n",
            "24/24 [==============================] - 0s 56us/sample - loss: nan\n",
            "Epoch 45/100\n",
            "24/24 [==============================] - 0s 55us/sample - loss: nan\n",
            "Epoch 46/100\n",
            "24/24 [==============================] - 0s 53us/sample - loss: nan\n",
            "Epoch 47/100\n",
            "24/24 [==============================] - 0s 60us/sample - loss: nan\n",
            "Epoch 48/100\n",
            "24/24 [==============================] - 0s 53us/sample - loss: nan\n",
            "Epoch 49/100\n",
            "24/24 [==============================] - 0s 55us/sample - loss: nan\n",
            "Epoch 50/100\n",
            "24/24 [==============================] - 0s 54us/sample - loss: nan\n",
            "Epoch 51/100\n",
            "24/24 [==============================] - 0s 65us/sample - loss: nan\n",
            "Epoch 52/100\n",
            "24/24 [==============================] - 0s 71us/sample - loss: nan\n",
            "Epoch 53/100\n",
            "24/24 [==============================] - 0s 49us/sample - loss: nan\n",
            "Epoch 54/100\n",
            "24/24 [==============================] - 0s 54us/sample - loss: nan\n",
            "Epoch 55/100\n",
            "24/24 [==============================] - 0s 55us/sample - loss: nan\n",
            "Epoch 56/100\n",
            "24/24 [==============================] - 0s 67us/sample - loss: nan\n",
            "Epoch 57/100\n",
            "24/24 [==============================] - 0s 48us/sample - loss: nan\n",
            "Epoch 58/100\n",
            "24/24 [==============================] - 0s 51us/sample - loss: nan\n",
            "Epoch 59/100\n",
            "24/24 [==============================] - 0s 54us/sample - loss: nan\n",
            "Epoch 60/100\n",
            "24/24 [==============================] - 0s 52us/sample - loss: nan\n",
            "Epoch 61/100\n",
            "24/24 [==============================] - 0s 70us/sample - loss: nan\n",
            "Epoch 62/100\n",
            "24/24 [==============================] - 0s 55us/sample - loss: nan\n",
            "Epoch 63/100\n",
            "24/24 [==============================] - 0s 52us/sample - loss: nan\n",
            "Epoch 64/100\n",
            "24/24 [==============================] - 0s 49us/sample - loss: nan\n",
            "Epoch 65/100\n",
            "24/24 [==============================] - 0s 58us/sample - loss: nan\n",
            "Epoch 66/100\n",
            "24/24 [==============================] - 0s 68us/sample - loss: nan\n",
            "Epoch 67/100\n",
            "24/24 [==============================] - 0s 58us/sample - loss: nan\n",
            "Epoch 68/100\n",
            "24/24 [==============================] - 0s 55us/sample - loss: nan\n",
            "Epoch 69/100\n",
            "24/24 [==============================] - 0s 53us/sample - loss: nan\n",
            "Epoch 70/100\n",
            "24/24 [==============================] - 0s 66us/sample - loss: nan\n",
            "Epoch 71/100\n",
            "24/24 [==============================] - 0s 61us/sample - loss: nan\n",
            "Epoch 72/100\n",
            "24/24 [==============================] - 0s 66us/sample - loss: nan\n",
            "Epoch 73/100\n",
            "24/24 [==============================] - 0s 47us/sample - loss: nan\n",
            "Epoch 74/100\n",
            "24/24 [==============================] - 0s 52us/sample - loss: nan\n",
            "Epoch 75/100\n",
            "24/24 [==============================] - 0s 78us/sample - loss: nan\n",
            "Epoch 76/100\n",
            "24/24 [==============================] - 0s 77us/sample - loss: nan\n",
            "Epoch 77/100\n",
            "24/24 [==============================] - 0s 62us/sample - loss: nan\n",
            "Epoch 78/100\n",
            "24/24 [==============================] - 0s 80us/sample - loss: nan\n",
            "Epoch 79/100\n",
            "24/24 [==============================] - 0s 90us/sample - loss: nan\n",
            "Epoch 80/100\n",
            "24/24 [==============================] - 0s 64us/sample - loss: nan\n",
            "Epoch 81/100\n",
            "24/24 [==============================] - 0s 63us/sample - loss: nan\n",
            "Epoch 82/100\n",
            "24/24 [==============================] - 0s 63us/sample - loss: nan\n",
            "Epoch 83/100\n",
            "24/24 [==============================] - 0s 47us/sample - loss: nan\n",
            "Epoch 84/100\n",
            "24/24 [==============================] - 0s 52us/sample - loss: nan\n",
            "Epoch 85/100\n",
            "24/24 [==============================] - 0s 53us/sample - loss: nan\n",
            "Epoch 86/100\n",
            "24/24 [==============================] - 0s 52us/sample - loss: nan\n",
            "Epoch 87/100\n",
            "24/24 [==============================] - 0s 52us/sample - loss: nan\n",
            "Epoch 88/100\n",
            "24/24 [==============================] - 0s 63us/sample - loss: nan\n",
            "Epoch 89/100\n",
            "24/24 [==============================] - 0s 61us/sample - loss: nan\n",
            "Epoch 90/100\n",
            "24/24 [==============================] - 0s 58us/sample - loss: nan\n",
            "Epoch 91/100\n",
            "24/24 [==============================] - 0s 80us/sample - loss: nan\n",
            "Epoch 92/100\n",
            "24/24 [==============================] - 0s 67us/sample - loss: nan\n",
            "Epoch 93/100\n",
            "24/24 [==============================] - 0s 69us/sample - loss: nan\n",
            "Epoch 94/100\n",
            "24/24 [==============================] - 0s 96us/sample - loss: nan\n",
            "Epoch 95/100\n",
            "24/24 [==============================] - 0s 61us/sample - loss: nan\n",
            "Epoch 96/100\n",
            "24/24 [==============================] - 0s 96us/sample - loss: nan\n",
            "Epoch 97/100\n",
            "24/24 [==============================] - 0s 60us/sample - loss: nan\n",
            "Epoch 98/100\n",
            "24/24 [==============================] - 0s 60us/sample - loss: nan\n",
            "Epoch 99/100\n",
            "24/24 [==============================] - 0s 80us/sample - loss: nan\n",
            "Epoch 100/100\n",
            "24/24 [==============================] - 0s 64us/sample - loss: nan\n"
          ],
          "name": "stdout"
        },
        {
          "output_type": "execute_result",
          "data": {
            "text/plain": [
              "<tensorflow.python.keras.callbacks.History at 0x7f8045d7f9b0>"
            ]
          },
          "metadata": {
            "tags": []
          },
          "execution_count": 27
        }
      ]
    },
    {
      "cell_type": "markdown",
      "metadata": {
        "id": "lPW0dTwJVClK",
        "colab_type": "text"
      },
      "source": [
        "E então tentaremos predizer o valor esperado dado o treinamento para o trimestre encerrado em 30/9/2019"
      ]
    },
    {
      "cell_type": "code",
      "metadata": {
        "id": "BqhmfgBxL2So",
        "colab_type": "code",
        "colab": {
          "base_uri": "https://localhost:8080/",
          "height": 34
        },
        "outputId": "9492f8b6-8c5a-4a2a-9093-992aef416bae"
      },
      "source": [
        "print(model.predict([76985672]))"
      ],
      "execution_count": 22,
      "outputs": [
        {
          "output_type": "stream",
          "text": [
            "[[nan]]\n"
          ],
          "name": "stdout"
        }
      ]
    },
    {
      "cell_type": "code",
      "metadata": {
        "id": "6DxsCpsRVs8V",
        "colab_type": "code",
        "colab": {}
      },
      "source": [
        ""
      ],
      "execution_count": 0,
      "outputs": []
    }
  ]
}